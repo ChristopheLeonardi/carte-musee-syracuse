{
 "cells": [
  {
   "cell_type": "code",
   "execution_count": 5,
   "id": "db3c9d4a-6c64-497c-9f3a-b6567fc4efd9",
   "metadata": {},
   "outputs": [
    {
     "name": "stdout",
     "output_type": "stream",
     "text": [
      "         pop_est      continent                      name iso_a3  gdp_md_est  \\\n",
      "0       889953.0        Oceania                      Fiji    FJI        5496   \n",
      "1     58005463.0         Africa                  Tanzania    TZA       63177   \n",
      "2       603253.0         Africa                 W. Sahara    ESH         907   \n",
      "3     37589262.0  North America                    Canada    CAN     1736425   \n",
      "4    328239523.0  North America  United States of America    USA    21433226   \n",
      "..           ...            ...                       ...    ...         ...   \n",
      "172    6944975.0         Europe                    Serbia    SRB       51475   \n",
      "173     622137.0         Europe                Montenegro    MNE        5542   \n",
      "174    1794248.0         Europe                    Kosovo    -99        7926   \n",
      "175    1394973.0  North America       Trinidad and Tobago    TTO       24269   \n",
      "176   11062113.0         Africa                  S. Sudan    SSD       11998   \n",
      "\n",
      "                                              geometry  \\\n",
      "0    MULTIPOLYGON (((180.00000 -16.06713, 180.00000...   \n",
      "1    POLYGON ((33.90371 -0.95000, 34.07262 -1.05982...   \n",
      "2    POLYGON ((-8.66559 27.65643, -8.66512 27.58948...   \n",
      "3    MULTIPOLYGON (((-122.84000 49.00000, -122.9742...   \n",
      "4    MULTIPOLYGON (((-122.84000 49.00000, -120.0000...   \n",
      "..                                                 ...   \n",
      "172  POLYGON ((18.82982 45.90887, 18.82984 45.90888...   \n",
      "173  POLYGON ((20.07070 42.58863, 19.80161 42.50009...   \n",
      "174  POLYGON ((20.59025 41.85541, 20.52295 42.21787...   \n",
      "175  POLYGON ((-61.68000 10.76000, -61.10500 10.890...   \n",
      "176  POLYGON ((30.83385 3.50917, 29.95350 4.17370, ...   \n",
      "\n",
      "                          center  \n",
      "0    POINT (163.85316 -17.31631)  \n",
      "1      POINT (34.75299 -6.25773)  \n",
      "2     POINT (-12.13783 24.29117)  \n",
      "3     POINT (-98.14238 61.46908)  \n",
      "4    POINT (-112.59944 45.70563)  \n",
      "..                           ...  \n",
      "172    POINT (20.81965 44.23304)  \n",
      "173    POINT (19.28618 42.78904)  \n",
      "174    POINT (20.89536 42.57937)  \n",
      "175   POINT (-61.33037 10.42824)  \n",
      "176     POINT (30.19862 7.29289)  \n",
      "\n",
      "[177 rows x 7 columns]\n"
     ]
    },
    {
     "name": "stderr",
     "output_type": "stream",
     "text": [
      "C:\\Users\\Chris\\AppData\\Local\\Temp\\ipykernel_13060\\1232230250.py:5: FutureWarning: The geopandas.dataset module is deprecated and will be removed in GeoPandas 1.0. You can get the original 'naturalearth_lowres' data from https://www.naturalearthdata.com/downloads/110m-cultural-vectors/.\n",
      "  gdf = gpd.read_file(gpd.datasets.get_path('naturalearth_lowres'))\n",
      "C:\\Users\\Chris\\AppData\\Local\\Temp\\ipykernel_13060\\1232230250.py:8: UserWarning: Geometry is in a geographic CRS. Results from 'centroid' are likely incorrect. Use 'GeoSeries.to_crs()' to re-project geometries to a projected CRS before this operation.\n",
      "\n",
      "  gdf['center'] = gdf['geometry'].centroid\n",
      "C:\\Users\\Chris\\AppData\\Local\\Programs\\Python\\Python312\\Lib\\site-packages\\geopandas\\geodataframe.py:1543: SettingWithCopyWarning: \n",
      "A value is trying to be set on a copy of a slice from a DataFrame.\n",
      "Try using .loc[row_indexer,col_indexer] = value instead\n",
      "\n",
      "See the caveats in the documentation: https://pandas.pydata.org/pandas-docs/stable/user_guide/indexing.html#returning-a-view-versus-a-copy\n",
      "  super().__setitem__(key, value)\n",
      "C:\\Users\\Chris\\AppData\\Local\\Programs\\Python\\Python312\\Lib\\site-packages\\geopandas\\geodataframe.py:1543: SettingWithCopyWarning: \n",
      "A value is trying to be set on a copy of a slice from a DataFrame.\n",
      "Try using .loc[row_indexer,col_indexer] = value instead\n",
      "\n",
      "See the caveats in the documentation: https://pandas.pydata.org/pandas-docs/stable/user_guide/indexing.html#returning-a-view-versus-a-copy\n",
      "  super().__setitem__(key, value)\n"
     ]
    }
   ],
   "source": [
    "import pandas as pd\n",
    "import geopandas as gpd\n",
    "\n",
    "# Télécharger la base de données des pays\n",
    "gdf = gpd.read_file(gpd.datasets.get_path('naturalearth_lowres'))\n",
    "\n",
    "# Calculer le centre de chaque pays\n",
    "gdf['center'] = gdf['geometry'].centroid\n",
    "\n",
    "# Extraire les données nécessaires\n",
    "print(gdf)\n",
    "countries = gdf[['iso_a3', 'name', 'center']]\n",
    "countries['latitude'] = countries['center'].y\n",
    "countries['longitude'] = countries['center'].x\n",
    "countries = countries.drop('center', axis=1)\n",
    "\n",
    "# Enregistrer dans un fichier CSV\n",
    "countries.to_csv('country_centers.csv', index=False)"
   ]
  },
  {
   "cell_type": "code",
   "execution_count": null,
   "id": "b35f2a1c-6298-4f8d-a3d9-87e93144c9dc",
   "metadata": {},
   "outputs": [],
   "source": []
  },
  {
   "cell_type": "code",
   "execution_count": null,
   "id": "a3211668-063d-437a-845a-50c81e7d0760",
   "metadata": {},
   "outputs": [],
   "source": []
  }
 ],
 "metadata": {
  "kernelspec": {
   "display_name": "Python 3 (ipykernel)",
   "language": "python",
   "name": "python3"
  },
  "language_info": {
   "codemirror_mode": {
    "name": "ipython",
    "version": 3
   },
   "file_extension": ".py",
   "mimetype": "text/x-python",
   "name": "python",
   "nbconvert_exporter": "python",
   "pygments_lexer": "ipython3",
   "version": "3.12.0"
  }
 },
 "nbformat": 4,
 "nbformat_minor": 5
}

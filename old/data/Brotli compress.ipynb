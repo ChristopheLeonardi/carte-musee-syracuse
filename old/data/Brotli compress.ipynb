{
 "cells": [
  {
   "cell_type": "code",
   "execution_count": null,
   "id": "5704e522",
   "metadata": {},
   "outputs": [],
   "source": [
    "#data-carte-collections_2023-07-20.csv\n",
    "import brotli\n",
    "import pandas as pd\n",
    "\n",
    "df = "
   ]
  }
 ],
 "metadata": {
  "kernelspec": {
   "display_name": "Python 3 (ipykernel)",
   "language": "python",
   "name": "python3"
  },
  "language_info": {
   "codemirror_mode": {
    "name": "ipython",
    "version": 3
   },
   "file_extension": ".py",
   "mimetype": "text/x-python",
   "name": "python",
   "nbconvert_exporter": "python",
   "pygments_lexer": "ipython3",
   "version": "3.10.8"
  }
 },
 "nbformat": 4,
 "nbformat_minor": 5
}
